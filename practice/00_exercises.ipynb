{
 "cells": [
  {
   "cell_type": "markdown",
   "id": "dc7840a8-cb4a-4c7c-8850-b9c882f2cc38",
   "metadata": {},
   "source": [
    "# EXERCISES FOR: 00. Getting started with TensorFlow: A guide to the fundamentals\n",
    "\n",
    "## 🛠 00. TensorFlow Fundamentals Exercises\n",
    "\n",
    "1. Create a vector, scalar, matrix and tensor with values of your choosing using `tf.constant()`.\n",
    "2. Find the shape, rank and size of the tensors you created in 1.\n",
    "3. Create two tensors containing random values between 0 and 1 with shape `[5, 300]`.\n",
    "4. Multiply the two tensors you created in 3 using matrix multiplication.\n",
    "5. Multiply the two tensors you created in 3 using dot product.\n",
    "6. Create a tensor with random values between 0 and 1 with shape `[224, 224, 3]`.\n",
    "7. Find the min and max values of the tensor you created in 6 along the first axis.\n",
    "8. Created a tensor with random values of shape `[1, 224, 224, 3]` then squeeze it to change the shape to `[224, 224, 3]`.\n",
    "9. Create a tensor with shape `[10]` using your own choice of values, then find the index which has the maximum value.\n",
    "10. One-hot encode the tensor you created in 9."
   ]
  },
  {
   "cell_type": "markdown",
   "id": "c0487fbf-1a42-4af8-8e2d-a94eec71d180",
   "metadata": {},
   "source": [
    "### Preliminary"
   ]
  },
  {
   "cell_type": "code",
   "execution_count": null,
   "id": "9348c437-35b7-4d39-b39d-86a0193ca8e9",
   "metadata": {},
   "outputs": [],
   "source": [
    "# Create timestamp\n",
    "import datetime\n",
    "\n",
    "print(f\"Notebook last run (end-to-end): {datetime.datetime.now()}\")"
   ]
  },
  {
   "cell_type": "code",
   "execution_count": null,
   "id": "ec50021b-7bf6-4314-9521-9f8de69ad231",
   "metadata": {},
   "outputs": [],
   "source": [
    "# Import TensorFlow\n",
    "import os\n",
    "os.environ['TF_ENABLE_ONEDNN_OPTS'] = '0'\n",
    "os.environ['TF_CPP_MIN_LOG_LEVEL'] = '2'\n",
    "import tensorflow as tf\n",
    "print(tf.__version__) # find the version number (should be 2.x+)"
   ]
  },
  {
   "cell_type": "markdown",
   "id": "839e0387-f02c-4afb-aec4-39f4cc4519e7",
   "metadata": {},
   "source": [
    "### Exercises\n",
    "#### [1,2] Simple tensors"
   ]
  },
  {
   "cell_type": "code",
   "execution_count": null,
   "id": "aa0c14ec-9dab-4ebb-8d43-ba16f706dc0e",
   "metadata": {},
   "outputs": [],
   "source": [
    "d0 = tf.constant(109)\n",
    "d1 = tf.constant([15,17])\n",
    "d2 = tf.constant([\n",
    "    [11,12],[25,26]\n",
    "])\n",
    "d3 = tf.constant([\n",
    "    [[1,2,3],[4,5,6]],\n",
    "    [[30,33,36],[55,54,43]],\n",
    "    [[80,80,82],[99,90,93]],\n",
    "])\n",
    "d0,d1,d2,d3"
   ]
  },
  {
   "cell_type": "code",
   "execution_count": null,
   "id": "15d6004b-727c-4044-8332-32a6bb6982e5",
   "metadata": {},
   "outputs": [],
   "source": [
    "for d in [d0,d1,d2,d3]:\n",
    "    print(d.shape,d.ndim)"
   ]
  },
  {
   "cell_type": "code",
   "execution_count": null,
   "id": "f71e0653-5910-4628-8d15-b6b7e24fa3cb",
   "metadata": {},
   "outputs": [],
   "source": [
    "# Alternatives:\n",
    "import numpy as np\n",
    "d3alt = tf.constant(np.arange(1,25),shape=(2,3,4))\n",
    "d3alt, d3alt.ndim"
   ]
  },
  {
   "cell_type": "markdown",
   "id": "ae1b559a-7ae4-477d-8abc-83d74f9c157c",
   "metadata": {},
   "source": [
    "#### [3,4,5] Random tensors"
   ]
  },
  {
   "cell_type": "code",
   "execution_count": null,
   "id": "b75936c3-276a-44f1-b113-d5e1c8f31adb",
   "metadata": {},
   "outputs": [],
   "source": [
    "rand1 = tf.random.Generator.from_seed(77) # set the seed for reproducibility\n",
    "rand1 = rand1.uniform(shape=(5, 300)) # create tensor from a normal distribution \n",
    "rand2 = tf.random.Generator.from_seed(177) # set the seed for reproducibility\n",
    "rand2 = rand2.uniform(shape=(5, 300)) # create tensor from a normal distribution \n",
    "rand1"
   ]
  },
  {
   "cell_type": "markdown",
   "id": "90cfd05b-30b7-4e10-9a45-8df1a82334cf",
   "metadata": {},
   "source": [
    "#### [6,7] Random tensors"
   ]
  },
  {
   "cell_type": "code",
   "execution_count": null,
   "id": "0cc2dbef-0750-42b4-8a71-12dc0bf3d932",
   "metadata": {},
   "outputs": [],
   "source": [
    "rand3 = tf.random.Generator.from_seed(77) # set the seed for reproducibility\n",
    "rand3 = rand3.uniform(shape=(224, 224, 3)) # create tensor from a normal distribution\n",
    "# Find datatypr, shape, rank and size:\n",
    "print(\"Datatype of every element:\",rand3.dtype)\n",
    "print(\"Shape of tensor:\",rand3.shape)\n",
    "print(\"Rank of tensor:\",rand3.ndim)\n",
    "print(\"Size of the tensor:\",tf.size(rand3).numpy())"
   ]
  },
  {
   "cell_type": "code",
   "execution_count": null,
   "id": "1011909d-24ee-47ec-808a-729bb1a5bd5d",
   "metadata": {},
   "outputs": [],
   "source": [
    "# Find the min and max values of the tensor along the first axis:\n",
    "print('Minimum value:',tf.reduce_min(rand3).numpy())\n",
    "print('Maximum value:',tf.reduce_max(rand3).numpy())\n",
    "print('Mean value:',tf.reduce_mean(rand3).numpy())\n",
    "print('Standard deviation:',tf.math.reduce_std(rand3).numpy())\n",
    "print('Variance:',tf.math.reduce_variance(rand3).numpy())"
   ]
  },
  {
   "cell_type": "markdown",
   "id": "02c4b8b7-00d7-41de-9d4d-fbfd7cf4e1be",
   "metadata": {},
   "source": [
    "#### [8] Manipulate dimensions"
   ]
  },
  {
   "cell_type": "code",
   "execution_count": null,
   "id": "82d7acbc-240e-4e30-9795-9e69698507a6",
   "metadata": {},
   "outputs": [],
   "source": [
    "A = tf.random.Generator.from_seed(0) # set the seed for reproducibility\n",
    "A = A.uniform(shape=(1, 224, 224, 3)) # create tensor from a normal distribution\n",
    "A[:,:,:,1]"
   ]
  },
  {
   "cell_type": "code",
   "execution_count": null,
   "id": "07289290-cae3-42f5-b4be-9fe6760db7b3",
   "metadata": {},
   "outputs": [],
   "source": [
    "# Squeeze tensor:\n",
    "A_squeezed = tf.squeeze(A)\n",
    "A.shape, A_squeezed.shape"
   ]
  },
  {
   "cell_type": "markdown",
   "id": "22a4128c-ac00-4939-8ed2-fda52130050d",
   "metadata": {},
   "source": [
    "#### [9,10] One-hot encoding"
   ]
  },
  {
   "cell_type": "code",
   "execution_count": null,
   "id": "cf780b1c-dcf5-46f9-b18e-787f01fd83b4",
   "metadata": {},
   "outputs": [],
   "source": [
    "# Set seeds:\n",
    "tf.random.set_seed(0), np.random.seed(0)\n",
    "# Create random tensor:\n",
    "B = tf.constant(np.random.randint(0, 10, 10))\n",
    "B"
   ]
  },
  {
   "cell_type": "code",
   "execution_count": null,
   "id": "f6374fc2-ead3-4678-b2d5-322b644f9d71",
   "metadata": {},
   "outputs": [],
   "source": [
    "# Find minimum and maximum values and their indexes:\n",
    "print('Index for MINIMUM value:',tf.argmin(B).numpy())\n",
    "print('MINIMUM value:',B[tf.argmin(B)].numpy())\n",
    "print('Index for MAXIMUM value:',tf.argmax(B).numpy())\n",
    "print('MAXIMUM value:',B[tf.argmax(B)].numpy())"
   ]
  },
  {
   "cell_type": "code",
   "execution_count": null,
   "id": "3886bf9d-3e10-4a8e-bd80-3f153a98a2d7",
   "metadata": {},
   "outputs": [],
   "source": [
    "B_OH = tf.one_hot(B, depth = 10)\n",
    "B_OH"
   ]
  },
  {
   "cell_type": "markdown",
   "id": "c7202874-f312-4400-acce-8557fc10dc15",
   "metadata": {},
   "source": [
    "## 📖 Extra-curriculum\n",
    "\n",
    "* Try to create a series of tensor functions to calculate your most recent grocery bill (it's okay if you don't use the names of the items, just the price in numerical form).\n",
    "  * How would you calculate your grocery bill for the month and for the year using tensors?"
   ]
  },
  {
   "cell_type": "code",
   "execution_count": null,
   "id": "b1496050-f1e8-4218-8cf3-fbcf32228972",
   "metadata": {},
   "outputs": [],
   "source": [
    "# Create data:\n",
    "products = tf.constant(\n",
    "    [\"Onions\",\"Beef\",\"Nuts\",\"Detergent\",\"Broom\"]\n",
    ")\n",
    "prices = tf.constant([3.,20.,22.,10,30],dtype=tf.float16) # [$]\n",
    "freq_per_month = tf.constant([10,8,3,2,0.25],dtype=tf.float16) # [per month]\n",
    "products, prices, freq_per_month"
   ]
  },
  {
   "cell_type": "code",
   "execution_count": null,
   "id": "3f4594b1-3e3b-40f8-a1b6-7f025d5b2062",
   "metadata": {},
   "outputs": [],
   "source": [
    "tf.transpose(prices).shape,freq_per_month.shape"
   ]
  },
  {
   "cell_type": "code",
   "execution_count": null,
   "id": "eee56b55-389e-41a5-a80b-0ef6bcd98c02",
   "metadata": {},
   "outputs": [],
   "source": [
    "# Calculate bill per month:\n",
    "print('Estimated bill per month: $',tf.tensordot(prices,freq_per_month,axes=1).numpy())"
   ]
  }
 ],
 "metadata": {
  "kernelspec": {
   "display_name": "py10",
   "language": "python",
   "name": "py10"
  },
  "language_info": {
   "codemirror_mode": {
    "name": "ipython",
    "version": 3
   },
   "file_extension": ".py",
   "mimetype": "text/x-python",
   "name": "python",
   "nbconvert_exporter": "python",
   "pygments_lexer": "ipython3",
   "version": "3.10.13"
  }
 },
 "nbformat": 4,
 "nbformat_minor": 5
}
